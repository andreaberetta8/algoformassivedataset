{
  "cells": [
    {
      "cell_type": "markdown",
      "metadata": {
        "colab_type": "text",
        "id": "view-in-github"
      },
      "source": [
        "<a href=\"https://colab.research.google.com/drive/19UVBnX2RyDhXzDnRyqxAwAr5B-csH01t?usp=sharing\" target=\"_parent\"><img src=\"https://colab.research.google.com/assets/colab-badge.svg\" alt=\"Open In Colab\"/></a>"
      ]
    },
    {
      "cell_type": "markdown",
      "metadata": {
        "id": "hcJoUCu5yUEf"
      },
      "source": [
        "# **Market Basket Linkedin Analysis**\n",
        "**Finding frequent itemsets in LinkedIn Jobs & Skills dataset**\n"
      ]
    },
    {
      "cell_type": "markdown",
      "metadata": {
        "id": "HjSaO3B_ypjZ"
      },
      "source": [
        "Import libraries"
      ]
    },
    {
      "cell_type": "code",
      "execution_count": 1,
      "metadata": {
        "colab": {
          "base_uri": "https://localhost:8080/"
        },
        "id": "X2DkgO8aNJol",
        "outputId": "fff948b0-d04a-4ab0-9a66-cd217e1cb1fe"
      },
      "outputs": [
        {
          "name": "stdout",
          "output_type": "stream",
          "text": [
            "Collecting pyspark\n",
            "  Downloading pyspark-3.5.1.tar.gz (317.0 MB)\n",
            "\u001b[2K     \u001b[90m━━━━━━━━━━━━━━━━━━━━━━━━━━━━━━━━━━━━━━━━\u001b[0m \u001b[32m317.0/317.0 MB\u001b[0m \u001b[31m1.9 MB/s\u001b[0m eta \u001b[36m0:00:00\u001b[0m\n",
            "\u001b[?25h  Preparing metadata (setup.py) ... \u001b[?25l\u001b[?25hdone\n",
            "Requirement already satisfied: py4j==0.10.9.7 in /usr/local/lib/python3.10/dist-packages (from pyspark) (0.10.9.7)\n",
            "Building wheels for collected packages: pyspark\n",
            "  Building wheel for pyspark (setup.py) ... \u001b[?25l\u001b[?25hdone\n",
            "  Created wheel for pyspark: filename=pyspark-3.5.1-py2.py3-none-any.whl size=317488491 sha256=92e22e311735557e700531161da682c4df0d6b6712dfe37a8a668ec1b1782c5e\n",
            "  Stored in directory: /root/.cache/pip/wheels/80/1d/60/2c256ed38dddce2fdd93be545214a63e02fbd8d74fb0b7f3a6\n",
            "Successfully built pyspark\n",
            "Installing collected packages: pyspark\n",
            "Successfully installed pyspark-3.5.1\n"
          ]
        }
      ],
      "source": [
        "!pip install pyspark"
      ]
    },
    {
      "cell_type": "code",
      "execution_count": 2,
      "metadata": {
        "id": "au0atJ4XM0_L"
      },
      "outputs": [],
      "source": [
        "import os\n",
        "import pandas as pd\n",
        "import numpy as np\n",
        "import matplotlib.pyplot as plt\n",
        "import pyspark\n",
        "import zipfile\n",
        "import string\n",
        "import nltk\n",
        "from pyspark import SparkContext\n",
        "from pyspark.ml import Pipeline\n",
        "from pyspark.sql import SparkSession\n",
        "from pyspark.sql.functions import split, col, collect_list,  size"
      ]
    },
    {
      "cell_type": "markdown",
      "metadata": {
        "id": "bagjAkxuyuj7"
      },
      "source": [
        "Download the dataset from Kaggle"
      ]
    },
    {
      "cell_type": "code",
      "execution_count": 3,
      "metadata": {
        "colab": {
          "base_uri": "https://localhost:8080/"
        },
        "id": "XpVqdPcKMxSl",
        "outputId": "0c7bfe97-6f4f-4a6e-bda8-11b9cc3db45a"
      },
      "outputs": [
        {
          "name": "stdout",
          "output_type": "stream",
          "text": [
            "Downloading 1-3m-linkedin-jobs-and-skills-2024.zip to /content\n",
            "100% 1.87G/1.88G [00:25<00:00, 123MB/s]\n",
            "100% 1.88G/1.88G [00:25<00:00, 77.7MB/s]\n"
          ]
        }
      ],
      "source": [
        "# Insert your own Username and Key\n",
        "\n",
        "os.environ['KAGGLE_USERNAME'] = \"xxxxxx\"\n",
        "os.environ['KAGGLE_KEY'] = \"xxxxxx\"\n",
        "!kaggle datasets download -d asaniczka/1-3m-linkedin-jobs-and-skills-2024"
      ]
    },
    {
      "cell_type": "code",
      "execution_count": 4,
      "metadata": {
        "id": "tyNETRuhNkJQ"
      },
      "outputs": [],
      "source": [
        "# Unzip\n",
        "import zipfile\n",
        "\n",
        "with zipfile.ZipFile('/content/1-3m-linkedin-jobs-and-skills-2024.zip', 'r') as zip_ref:\n",
        "    zip_ref.extractall('/content/')"
      ]
    },
    {
      "cell_type": "markdown",
      "metadata": {
        "id": "RhnhL9hqyz2m"
      },
      "source": [
        "Inizialize PySpark session"
      ]
    },
    {
      "cell_type": "code",
      "execution_count": 5,
      "metadata": {
        "id": "KU5x0fSKSQFK"
      },
      "outputs": [],
      "source": [
        "spark = SparkSession.builder.master(\"local[*]\").getOrCreate()\n",
        "sc = spark.sparkContext"
      ]
    },
    {
      "cell_type": "markdown",
      "metadata": {
        "id": "atzzejaBy5UZ"
      },
      "source": [
        "**Analysis and Preprocessing**"
      ]
    },
    {
      "cell_type": "code",
      "execution_count": 6,
      "metadata": {
        "id": "gajjP281Q9Z0"
      },
      "outputs": [],
      "source": [
        "skill_data = spark.read.csv('/content/job_skills.csv', header=True, inferSchema=True, sep=\",\")"
      ]
    },
    {
      "cell_type": "code",
      "execution_count": 7,
      "metadata": {
        "id": "_FbQpKEFncGw"
      },
      "outputs": [],
      "source": [
        "skill_data = skill_data.dropna()\n",
        "skill_df = skill_data.select('job_skills')"
      ]
    },
    {
      "cell_type": "code",
      "execution_count": 8,
      "metadata": {
        "id": "_ENF1gU7qdK7"
      },
      "outputs": [],
      "source": [
        "# Just for computations\n",
        "skill_dff = skill_data.withColumn('job_skills_list', split(skill_data['job_skills'], ','))"
      ]
    },
    {
      "cell_type": "code",
      "execution_count": 9,
      "metadata": {
        "id": "rfWt6sIQr6hc"
      },
      "outputs": [],
      "source": [
        "skill_dff = skill_dff.withColumn('num_skills', size(skill_dff['job_skills_list']))"
      ]
    },
    {
      "cell_type": "code",
      "execution_count": 10,
      "metadata": {
        "colab": {
          "base_uri": "https://localhost:8080/"
        },
        "id": "S5i9eWSwqohZ",
        "outputId": "093f1495-1c73-4c6f-868c-83b6fe3e64ab"
      },
      "outputs": [
        {
          "name": "stdout",
          "output_type": "stream",
          "text": [
            "Average number of skills per job: 20.789084144149992\n",
            "Maximum number of skills per job: 463\n",
            "Minimum number of skills per job: 1\n"
          ]
        }
      ],
      "source": [
        "# average, minimum and maximum number of skills required\n",
        "\n",
        "average_num_skills = skill_dff.agg({'num_skills': 'avg'}).collect()[0][0]\n",
        "max_skills = skill_dff.agg({'num_skills': 'max'}).collect()[0][0]\n",
        "min_skills = skill_dff.agg({'num_skills': 'min'}).collect()[0][0]\n",
        "print(f\"Average number of skills per job: {average_num_skills}\")\n",
        "print(f\"Maximum number of skills per job: {max_skills}\")\n",
        "print(f\"Minimum number of skills per job: {min_skills}\")"
      ]
    },
    {
      "cell_type": "code",
      "execution_count": 11,
      "metadata": {
        "id": "x5BrWiONgQq7"
      },
      "outputs": [],
      "source": [
        "# take sample of the data for computational reasons\n",
        "\n",
        "subset = skill_df.sample(False, 0.01, seed=42)"
      ]
    },
    {
      "cell_type": "code",
      "execution_count": 12,
      "metadata": {
        "id": "5vavZEpAgYnm"
      },
      "outputs": [],
      "source": [
        "rdd = subset.rdd.map(lambda x: x[0])"
      ]
    },
    {
      "cell_type": "code",
      "execution_count": 13,
      "metadata": {
        "colab": {
          "base_uri": "https://localhost:8080/"
        },
        "id": "vLO5cOfNW9Ml",
        "outputId": "6eeaa456-dc38-4de3-c406-af6d1b428de3"
      },
      "outputs": [
        {
          "data": {
            "text/plain": [
              "6"
            ]
          },
          "execution_count": 13,
          "metadata": {},
          "output_type": "execute_result"
        }
      ],
      "source": [
        "rdd.getNumPartitions()"
      ]
    },
    {
      "cell_type": "code",
      "execution_count": 14,
      "metadata": {
        "colab": {
          "base_uri": "https://localhost:8080/"
        },
        "id": "0KewIZhdgdgm",
        "outputId": "c0fa692e-b71b-4838-e064-589f52802fe0"
      },
      "outputs": [
        {
          "data": {
            "text/plain": [
              "13057"
            ]
          },
          "execution_count": 14,
          "metadata": {},
          "output_type": "execute_result"
        }
      ],
      "source": [
        "# N. of baskets\n",
        "subset.count()"
      ]
    },
    {
      "cell_type": "markdown",
      "metadata": {
        "id": "TXji68HyOwfY"
      },
      "source": [
        "Preprocess the skills"
      ]
    },
    {
      "cell_type": "code",
      "execution_count": 15,
      "metadata": {
        "colab": {
          "base_uri": "https://localhost:8080/"
        },
        "id": "_DSwwUYZcLOn",
        "outputId": "0fdabe91-a59f-4767-c0da-a9e7833d9142"
      },
      "outputs": [
        {
          "name": "stderr",
          "output_type": "stream",
          "text": [
            "[nltk_data] Downloading package punkt to /root/nltk_data...\n",
            "[nltk_data]   Unzipping tokenizers/punkt.zip.\n",
            "[nltk_data] Downloading package wordnet to /root/nltk_data...\n"
          ]
        }
      ],
      "source": [
        "nltk.download('punkt')\n",
        "nltk.download('wordnet')\n",
        "def preprocess(data):\n",
        "    # Convert everything to lowercase\n",
        "    text = data.lower()\n",
        "\n",
        "    # Tokenize by splitting on commas\n",
        "    skills_list = text.split(',')\n",
        "\n",
        "    # Remove eventual punctuation\n",
        "    skills_list = [skill.translate(str.maketrans('', '', string.punctuation)) for skill in skills_list]\n",
        "\n",
        "    # Remove eventual whitespaces\n",
        "    skills_list = [skill.strip() for skill in skills_list]\n",
        "\n",
        "    return skills_list\n"
      ]
    },
    {
      "cell_type": "code",
      "execution_count": 16,
      "metadata": {
        "id": "XqVYov8DhM9J"
      },
      "outputs": [],
      "source": [
        "rdd = rdd.map(preprocess)"
      ]
    },
    {
      "cell_type": "code",
      "execution_count": 17,
      "metadata": {
        "colab": {
          "base_uri": "https://localhost:8080/"
        },
        "id": "wSUCKJoNhbwR",
        "outputId": "595e683d-cdbf-49c0-932c-c4d76b2e609a"
      },
      "outputs": [
        {
          "name": "stdout",
          "output_type": "stream",
          "text": [
            "Support threshold of 0.02 of the baskets: 261 baskets.\n"
          ]
        }
      ],
      "source": [
        "# threshold set to be 2% of the baskets\n",
        "p = 0.02\n",
        "threshold = int(rdd.count()*p)\n",
        "print(f\"Support threshold of {p*100}% of the baskets: {threshold} baskets.\")"
      ]
    },
    {
      "cell_type": "markdown",
      "metadata": {
        "id": "o4ll4rfbO3Dc"
      },
      "source": [
        "Hashing skills to integers for space efficienty"
      ]
    },
    {
      "cell_type": "code",
      "execution_count": 18,
      "metadata": {
        "id": "56hzi33ahwtu"
      },
      "outputs": [],
      "source": [
        "# Function to create utils and the dictionary\n",
        "\n",
        "def create_dictionary(rdd):\n",
        "\n",
        "    # indexing the skills\n",
        "    integer2skill = rdd.flatMap(lambda line:line)\\\n",
        "                      .distinct().zipWithIndex()\\\n",
        "                      .map(lambda x: (x[1], x[0]))\\\n",
        "                      .collectAsMap()\n",
        "\n",
        "    # reverse\n",
        "    skill2integer = {value:key for key, value in integer2skill.items()}\n",
        "\n",
        "    return integer2skill, skill2integer"
      ]
    },
    {
      "cell_type": "code",
      "execution_count": 19,
      "metadata": {
        "id": "9E8mAMEAEs5v"
      },
      "outputs": [],
      "source": [
        "# Create the dictionaries for converting and reconverting\n",
        "integer2skill, skill2integer = create_dictionary(rdd)"
      ]
    },
    {
      "cell_type": "code",
      "execution_count": 20,
      "metadata": {
        "id": "3BVpD8uVEp08"
      },
      "outputs": [],
      "source": [
        "# Function for hashing\n",
        "def hashing(rdd, vocab):\n",
        " return rdd.map(lambda basket: [vocab[skill] for skill in basket])"
      ]
    },
    {
      "cell_type": "code",
      "execution_count": 21,
      "metadata": {
        "id": "4yF5bvHyEm_H"
      },
      "outputs": [],
      "source": [
        "# Hashing the skills\n",
        "rdd = hashing(rdd, skill2integer)"
      ]
    },
    {
      "cell_type": "markdown",
      "metadata": {
        "id": "imKQq2rhyJNs"
      },
      "source": [
        "# **A-Priori algorithm implementation**"
      ]
    },
    {
      "cell_type": "code",
      "execution_count": 22,
      "metadata": {
        "id": "g3kbzG7xh84A"
      },
      "outputs": [],
      "source": [
        "results = []"
      ]
    },
    {
      "cell_type": "code",
      "execution_count": 23,
      "metadata": {
        "colab": {
          "base_uri": "https://localhost:8080/"
        },
        "id": "aAwI-ZIEir4I",
        "outputId": "a84a6d28-d74b-438e-e933-433cb83ad915"
      },
      "outputs": [
        {
          "name": "stdout",
          "output_type": "stream",
          "text": [
            "Number of frequent singletons: 83\n"
          ]
        }
      ],
      "source": [
        "# First Pass\n",
        "\n",
        "frequent_singletons = rdd.flatMap(lambda basket: [(skill, 1) for skill in basket])\\\n",
        "        .reduceByKey(lambda t1, t2: t1+t2)\\\n",
        "        .filter(lambda t: t[1]>threshold)\n",
        "\n",
        "print(f\"Number of frequent singletons: {frequent_singletons.count()}\")"
      ]
    },
    {
      "cell_type": "code",
      "execution_count": 24,
      "metadata": {
        "id": "jJpxYoTNkJnn"
      },
      "outputs": [],
      "source": [
        "results += frequent_singletons.collect()"
      ]
    },
    {
      "cell_type": "code",
      "execution_count": 25,
      "metadata": {
        "id": "Py0s1-ybiwmr"
      },
      "outputs": [],
      "source": [
        "# Take only the skills removing the count\n",
        "frequent_singletons = frequent_singletons.map(lambda t: t[0])"
      ]
    },
    {
      "cell_type": "code",
      "execution_count": 26,
      "metadata": {
        "id": "kOH42oU_i4MR"
      },
      "outputs": [],
      "source": [
        "# Create candidates for next pass\n",
        "\n",
        "candidates = frequent_singletons.cartesian(frequent_singletons)\\\n",
        "                                .filter(lambda t: len(set(t))==len(t))\\\n",
        "                                .map(lambda t: tuple(sorted(t)))\\\n",
        "                                .distinct()\\\n",
        "                                .collect()"
      ]
    },
    {
      "cell_type": "code",
      "execution_count": 27,
      "metadata": {
        "colab": {
          "base_uri": "https://localhost:8080/"
        },
        "id": "tZqH2GdniDx7",
        "outputId": "195654fe-3aa7-4486-d7f2-9553baba4a16"
      },
      "outputs": [
        {
          "name": "stdout",
          "output_type": "stream",
          "text": [
            "Number of frequent pairs: 69\n"
          ]
        }
      ],
      "source": [
        "# Second Pass\n",
        "\n",
        "frequent_pairs = rdd.flatMap(lambda basket: [(tuple(candidate), 1) for candidate in candidates if set(candidate).issubset(set(basket))])\\\n",
        "                    .reduceByKey(lambda t1,t2: t1+t2)\\\n",
        "                    .filter(lambda t: t[1]>threshold)\n",
        "\n",
        "print(f\"Number of frequent pairs: {frequent_pairs.count()}\")"
      ]
    },
    {
      "cell_type": "code",
      "execution_count": 28,
      "metadata": {
        "id": "X6m1G_ajiIcq"
      },
      "outputs": [],
      "source": [
        "results += frequent_pairs.collect()\n",
        "frequent_pairs = frequent_pairs.map(lambda t: t[0])"
      ]
    },
    {
      "cell_type": "code",
      "execution_count": 29,
      "metadata": {
        "id": "bMEgJG_nl60A"
      },
      "outputs": [],
      "source": [
        "candidates = frequent_pairs.cartesian(frequent_pairs)\\\n",
        "                          .map(lambda tuples: {item for tupla in tuples for item in tupla})\\\n",
        "                          .filter(lambda t: len(t) == 3)\\\n",
        "                          .map(lambda t: tuple(sorted(t)))\\\n",
        "                          .distinct()\\\n",
        "                          .collect()"
      ]
    },
    {
      "cell_type": "code",
      "execution_count": 30,
      "metadata": {
        "colab": {
          "base_uri": "https://localhost:8080/"
        },
        "id": "XvhcK9vLl7oK",
        "outputId": "126b7dc6-6830-4ede-d5cd-e1905e731ce5"
      },
      "outputs": [
        {
          "name": "stdout",
          "output_type": "stream",
          "text": [
            "Number of frequent triples: 22\n"
          ]
        }
      ],
      "source": [
        "# Third Pass\n",
        "\n",
        "frequent_triples = rdd.flatMap(lambda basket: [(tuple(candidate), 1) for candidate in candidates if set(candidate).issubset(set(basket))])\\\n",
        "                    .reduceByKey(lambda t1,t2: t1+t2)\\\n",
        "                    .filter(lambda t: t[1]>threshold)\n",
        "\n",
        "print(f\"Number of frequent triples: {frequent_triples.count()}\")"
      ]
    },
    {
      "cell_type": "code",
      "execution_count": 31,
      "metadata": {
        "id": "6mRJ3aYsl-0K"
      },
      "outputs": [],
      "source": [
        "results += frequent_triples.collect()\n",
        "frequent_triples = frequent_triples.map(lambda t: t[0])"
      ]
    },
    {
      "cell_type": "code",
      "execution_count": 32,
      "metadata": {
        "id": "3Lr3TT8oqqw2"
      },
      "outputs": [],
      "source": [
        "candidates = frequent_triples.cartesian(frequent_triples)\\\n",
        "                          .map(lambda tuples: {item for tupla in tuples for item in tupla})\\\n",
        "                          .filter(lambda t: len(t) == 4)\\\n",
        "                          .map(lambda t: tuple(sorted(t)))\\\n",
        "                          .distinct()\\\n",
        "                          .collect()"
      ]
    },
    {
      "cell_type": "code",
      "execution_count": 33,
      "metadata": {
        "colab": {
          "base_uri": "https://localhost:8080/"
        },
        "id": "mxqCJJPWrGwG",
        "outputId": "5f094af7-aabe-4544-93fc-e1ae7b0d507d"
      },
      "outputs": [
        {
          "name": "stdout",
          "output_type": "stream",
          "text": [
            "Number of frequent size-4 itemsets: 0\n"
          ]
        }
      ],
      "source": [
        "# Fourth Pass\n",
        "\n",
        "frequent_quad = rdd.flatMap(lambda basket: [(tuple(candidate), 1) for candidate in candidates if set(candidate).issubset(set(basket))])\\\n",
        "                    .reduceByKey(lambda t1,t2: t1+t2)\\\n",
        "                    .filter(lambda t: t[1]>threshold)\n",
        "\n",
        "print(f\"Number of frequent size-4 itemsets: {frequent_quad.count()}\")"
      ]
    },
    {
      "cell_type": "code",
      "execution_count": 34,
      "metadata": {
        "id": "ZrGdiGEerQIm"
      },
      "outputs": [],
      "source": [
        "results += frequent_quad.collect()\n",
        "frequent_quad = frequent_quad.map(lambda t: t[0])"
      ]
    },
    {
      "cell_type": "code",
      "execution_count": 35,
      "metadata": {
        "id": "3i-uJzQciRCj"
      },
      "outputs": [],
      "source": [
        "# Re-convert the results to words\n",
        "\n",
        "results = [(integer2skill[t[0]],t[1]) if type(t[0])==int else (tuple([integer2skill[element] for element in t[0]]),t[1]) for t in results]"
      ]
    },
    {
      "cell_type": "code",
      "execution_count": 36,
      "metadata": {
        "colab": {
          "base_uri": "https://localhost:8080/"
        },
        "id": "QKbK7vRHmGto",
        "outputId": "9d9a1203-cb97-4dc3-a0ae-bcbe35f8b9db"
      },
      "outputs": [
        {
          "name": "stdout",
          "output_type": "stream",
          "text": [
            "('communication', 3717)\n",
            "('customer service', 2796)\n",
            "('teamwork', 2274)\n",
            "('communication skills', 1950)\n",
            "('leadership', 1845)\n",
            "('problem solving', 1515)\n",
            "('time management', 1408)\n",
            "(('customer service', 'communication'), 1374)\n",
            "(('teamwork', 'communication'), 1345)\n",
            "('attention to detail', 1312)\n",
            "('problemsolving', 1222)\n",
            "('project management', 1183)\n",
            "(('leadership', 'communication'), 1174)\n",
            "('interpersonal skills', 1019)\n",
            "('patient care', 1013)\n",
            "(('problem solving', 'communication'), 965)\n",
            "('sales', 953)\n",
            "(('teamwork', 'customer service'), 915)\n",
            "('collaboration', 853)\n",
            "('nursing', 849)\n",
            "(('communication', 'time management'), 837)\n",
            "('data analysis', 829)\n",
            "(('problemsolving', 'communication'), 821)\n",
            "('training', 804)\n",
            "('inventory management', 737)\n",
            "('organizational skills', 724)\n",
            "('microsoft office suite', 719)\n",
            "(('customer service', 'leadership'), 684)\n",
            "('high school diploma', 683)\n",
            "('bachelors degree', 680)\n",
            "(('customer service', 'sales'), 645)\n",
            "(('attention to detail', 'communication'), 630)\n",
            "('scheduling', 625)\n",
            "('microsoft office', 612)\n",
            "(('teamwork', 'customer service', 'communication'), 610)\n",
            "(('teamwork', 'leadership'), 609)\n",
            "(('teamwork', 'time management'), 608)\n",
            "('multitasking', 602)\n",
            "(('teamwork', 'problemsolving'), 596)\n",
            "('flexibility', 591)\n",
            "('analytical skills', 589)\n",
            "(('attention to detail', 'teamwork'), 576)\n",
            "(('communication', 'sales'), 570)\n",
            "(('teamwork', 'problem solving'), 564)\n",
            "(('customer service', 'problem solving'), 561)\n",
            "(('customer service', 'time management'), 557)\n",
            "('adaptability', 537)\n",
            "('documentation', 527)\n",
            "(('customer service', 'communication skills'), 515)\n",
            "('critical thinking', 512)\n",
            "(('leadership', 'problem solving'), 504)\n",
            "(('collaboration', 'communication'), 495)\n",
            "(('customer service', 'leadership', 'communication'), 494)\n",
            "(('project management', 'communication'), 492)\n",
            "('organization', 481)\n",
            "(('customer service', 'problemsolving'), 472)\n",
            "(('teamwork', 'leadership', 'communication'), 469)\n",
            "('budgeting', 466)\n",
            "(('inventory management', 'customer service'), 466)\n",
            "(('attention to detail', 'customer service'), 464)\n",
            "(('teamwork', 'problemsolving', 'communication'), 454)\n",
            "(('teamwork', 'communication skills'), 448)\n",
            "('safety', 445)\n",
            "(('problem solving', 'time management'), 443)\n",
            "('troubleshooting', 438)\n",
            "(('teamwork', 'problem solving', 'communication'), 433)\n",
            "(('teamwork', 'communication', 'time management'), 427)\n",
            "(('customer service', 'communication', 'sales'), 425)\n",
            "(('attention to detail', 'time management'), 424)\n",
            "('problemsolving skills', 422)\n",
            "('excel', 414)\n",
            "(('patient care', 'nursing'), 414)\n",
            "(('customer service', 'problem solving', 'communication'), 414)\n",
            "(('leadership', 'problem solving', 'communication'), 411)\n",
            "('written communication', 410)\n",
            "(('leadership', 'time management'), 409)\n",
            "('supervision', 405)\n",
            "('merchandising', 399)\n",
            "(('training', 'communication'), 397)\n",
            "('conflict resolution', 394)\n",
            "(('data analysis', 'communication'), 394)\n",
            "('life insurance', 388)\n",
            "('coaching', 387)\n",
            "(('high school diploma', 'customer service'), 384)\n",
            "(('problemsolving', 'leadership'), 384)\n",
            "('accounting', 382)\n",
            "(('attention to detail', 'teamwork', 'communication'), 382)\n",
            "('team leadership', 380)\n",
            "('decision making', 380)\n",
            "(('customer service', 'communication', 'time management'), 379)\n",
            "('computer skills', 373)\n",
            "(('patient care', 'communication'), 373)\n",
            "('travel', 372)\n",
            "('research', 369)\n",
            "(('interpersonal skills', 'communication skills'), 365)\n",
            "('quality assurance', 363)\n",
            "(('problemsolving', 'time management'), 362)\n",
            "(('customer service', 'problemsolving', 'communication'), 359)\n",
            "('team management', 355)\n",
            "('healthcare', 353)\n",
            "('drivers license', 353)\n",
            "('quality control', 352)\n",
            "(('attention to detail', 'problem solving'), 350)\n",
            "('401k', 348)\n",
            "('verbal communication', 348)\n",
            "('dental insurance', 348)\n",
            "('registered nurse', 347)\n",
            "('paid time off', 343)\n",
            "(('attention to detail', 'communication skills'), 343)\n",
            "('risk management', 339)\n",
            "(('merchandising', 'customer service'), 338)\n",
            "(('customer service', 'training'), 336)\n",
            "(('interpersonal skills', 'communication'), 335)\n",
            "('negotiation', 334)\n",
            "('reporting', 331)\n",
            "(('attention to detail', 'problemsolving'), 330)\n",
            "(('adaptability', 'communication'), 326)\n",
            "('lifting', 323)\n",
            "('presentation skills', 322)\n",
            "('marketing', 318)\n",
            "(('inventory management', 'communication'), 317)\n",
            "(('leadership', 'communication', 'time management'), 317)\n",
            "('supervisory experience', 314)\n",
            "(('critical thinking', 'communication'), 314)\n",
            "(('problemsolving', 'leadership', 'communication'), 312)\n",
            "('planning', 311)\n",
            "(('teamwork', 'sales'), 311)\n",
            "(('leadership', 'training'), 311)\n",
            "('vision insurance', 310)\n",
            "(('organization', 'communication'), 310)\n",
            "(('problem solving', 'communication', 'time management'), 309)\n",
            "('confidentiality', 306)\n",
            "(('microsoft office suite', 'communication'), 306)\n",
            "(('scheduling', 'communication'), 305)\n",
            "(('problemsolving skills', 'communication skills'), 304)\n",
            "(('vision insurance', 'dental insurance'), 302)\n",
            "(('attention to detail', 'customer service', 'communication'), 302)\n",
            "('equal opportunity employer', 299)\n",
            "('cash handling', 298)\n",
            "(('multitasking', 'communication'), 295)\n",
            "('patient education', 294)\n",
            "('bls', 294)\n",
            "('health insurance', 294)\n",
            "('mentoring', 291)\n",
            "('management', 288)\n",
            "(('communication', 'flexibility'), 285)\n",
            "(('written communication', 'verbal communication'), 285)\n",
            "('food safety', 283)\n",
            "(('nursing', 'communication'), 283)\n",
            "(('communication skills', 'time management'), 281)\n",
            "(('teamwork', 'customer service', 'problemsolving'), 281)\n",
            "(('teamwork', 'customer service', 'time management'), 280)\n",
            "('retail experience', 277)\n",
            "('engineering', 276)\n",
            "(('teamwork', 'adaptability'), 276)\n",
            "('compliance', 275)\n",
            "('professionalism', 275)\n",
            "(('project management', 'leadership'), 275)\n",
            "(('problemsolving', 'communication', 'time management'), 275)\n",
            "(('communication skills', 'organizational skills'), 274)\n",
            "(('teamwork', 'customer service', 'leadership'), 273)\n",
            "(('communication', 'safety'), 272)\n",
            "(('patient care', 'teamwork'), 271)\n",
            "(('attention to detail', 'teamwork', 'customer service'), 271)\n",
            "('microsoft excel', 267)\n",
            "('python', 266)\n",
            "(('cash handling', 'customer service'), 266)\n",
            "(('attention to detail', 'communication', 'time management'), 266)\n",
            "('valid drivers license', 265)\n",
            "(('teamwork', 'flexibility'), 265)\n",
            "(('documentation', 'communication'), 264)\n",
            "(('decision making', 'problem solving'), 263)\n",
            "(('high school diploma', 'communication'), 263)\n",
            "(('project management', 'problem solving'), 263)\n"
          ]
        }
      ],
      "source": [
        "# Most frequent itemsets sorted by count\n",
        "\n",
        "results_sorted = sorted(results, key=lambda x: x[1], reverse=True)\n",
        "\n",
        "for i in results_sorted:\n",
        "    print(i)"
      ]
    },
    {
      "cell_type": "markdown",
      "metadata": {
        "id": "LyUxOyB1pBcf"
      },
      "source": [
        "**Create the APriori Function to automate the algorithm**"
      ]
    },
    {
      "cell_type": "code",
      "execution_count": 37,
      "metadata": {
        "id": "3A6lc620eqvU"
      },
      "outputs": [],
      "source": [
        "def apriori(rdd, threshold_perc=0.02, max_size = \"none\"): # User can choose to find itesets only until a certain size (max_size)\n",
        "  # Compute the threshold\n",
        "  threshold = int(rdd.count()*threshold_perc)\n",
        "\n",
        "  # Hashing the skills\n",
        "  integer2skill, skill2integer = create_dictionary(rdd)\n",
        "  rdd = hashing(rdd, skill2integer)\n",
        "\n",
        "  # Create a list for storing results and candidates\n",
        "  Iterate = True\n",
        "\n",
        "  results = []\n",
        "  candidates = []\n",
        "\n",
        "  # Compute frequent singletons\n",
        "  frequent_singletons = rdd.flatMap(lambda basket: [(skill, 1) for skill in basket])\\\n",
        "        .reduceByKey(lambda t1, t2: t1+t2)\\\n",
        "        .filter(lambda t: t[1]>threshold)\n",
        "\n",
        "  print(f\"Number of frequent singletons: {frequent_singletons.count()}\")\n",
        "\n",
        "  # Add to results and remove count\n",
        "  results += frequent_singletons.collect()\n",
        "  frequent_singletons = frequent_singletons.map(lambda t:t[0])\n",
        "\n",
        "  # Compute candidates for next iteration\n",
        "  candidates = frequent_singletons.cartesian(frequent_singletons)\\\n",
        "                                .filter(lambda t: len(set(t))==len(t))\\\n",
        "                                .map(lambda t: tuple(sorted(t)))\\\n",
        "                                .distinct()\\\n",
        "                                .collect()\n",
        "\n",
        "  # Define the candidate size, starting from triples\n",
        "  candidate_size = 3\n",
        "\n",
        "  while Iterate:\n",
        "\n",
        "    # If we are just interested in singletons -> exit the loop\n",
        "    if max_size ==1:\n",
        "      break\n",
        "\n",
        "    # Filtering\n",
        "    frequent_k_itemset = rdd.flatMap(lambda basket: [(tuple(candidate), 1) for candidate in candidates if set(candidate).issubset(set(basket))])\\\n",
        "                    .reduceByKey(lambda t1,t2: t1+t2)\\\n",
        "                    .filter(lambda t: t[1]>threshold)\n",
        "\n",
        "    print(f\"Number of frequent {candidate_size-1}-size itemsets: {frequent_k_itemset.count()}\")\n",
        "\n",
        "    # Add to results and remove count\n",
        "    results += frequent_k_itemset.collect()\n",
        "    frequent_k_itemset = frequent_k_itemset.map(lambda t:t[0])\n",
        "\n",
        "    # Compute candidates for the next iteration\n",
        "    candidates = frequent_k_itemset.cartesian(frequent_k_itemset)\\\n",
        "                          .map(lambda tuples: {item for tupla in tuples for item in tupla})\\\n",
        "                          .filter(lambda t: len(t) == candidate_size)\\\n",
        "                          .map(lambda t: tuple(sorted(t)))\\\n",
        "                          .distinct()\\\n",
        "                          .collect()\n",
        "\n",
        "    # Iterate until the candidate set is empty or the max itemset size (max_size) has been reached\n",
        "    if ((max_size==\"none\") and (len(candidates) == 0)) or ((max_size != \"none\") and (candidate_size-1 == max_size)):\n",
        "      Iterate = False\n",
        "\n",
        "    candidate_size += 1\n",
        "\n",
        "  return [(integer2skill[t[0]],t[1]) if type(t[0])==int else (tuple([integer2skill[element] for element in t[0]]),t[1]) for t in results]\n"
      ]
    },
    {
      "cell_type": "code",
      "execution_count": 38,
      "metadata": {
        "colab": {
          "base_uri": "https://localhost:8080/"
        },
        "id": "IUUF8qcaevf1",
        "outputId": "cd5f7eed-765a-4574-863b-dbba54140424"
      },
      "outputs": [
        {
          "name": "stdout",
          "output_type": "stream",
          "text": [
            "Number of frequent singletons: 83\n",
            "Number of frequent 2-size itemsets: 69\n",
            "Number of frequent 3-size itemsets: 22\n",
            "Number of frequent 4-size itemsets: 0\n",
            "\n",
            "Frequent Itemsets sorted by occurences:\n",
            "('communication', 3717)\n",
            "('customer service', 2796)\n",
            "('teamwork', 2274)\n",
            "('communication skills', 1950)\n",
            "('leadership', 1845)\n",
            "('problem solving', 1515)\n",
            "('time management', 1408)\n",
            "(('customer service', 'communication'), 1374)\n",
            "(('communication', 'teamwork'), 1345)\n",
            "('attention to detail', 1312)\n",
            "('problemsolving', 1222)\n",
            "('project management', 1183)\n",
            "(('leadership', 'communication'), 1174)\n",
            "('interpersonal skills', 1019)\n",
            "('patient care', 1013)\n",
            "(('communication', 'problem solving'), 965)\n",
            "('sales', 953)\n",
            "(('customer service', 'teamwork'), 915)\n",
            "('collaboration', 853)\n",
            "('nursing', 849)\n",
            "(('time management', 'communication'), 837)\n",
            "('data analysis', 829)\n",
            "(('communication', 'problemsolving'), 821)\n",
            "('training', 804)\n",
            "('inventory management', 737)\n",
            "('organizational skills', 724)\n",
            "('microsoft office suite', 719)\n",
            "(('leadership', 'customer service'), 684)\n",
            "('high school diploma', 683)\n",
            "('bachelors degree', 680)\n",
            "(('customer service', 'sales'), 645)\n",
            "(('attention to detail', 'communication'), 630)\n",
            "('scheduling', 625)\n",
            "('microsoft office', 612)\n",
            "(('customer service', 'communication', 'teamwork'), 610)\n",
            "(('leadership', 'teamwork'), 609)\n",
            "(('time management', 'teamwork'), 608)\n",
            "('multitasking', 602)\n",
            "(('problemsolving', 'teamwork'), 596)\n",
            "('flexibility', 591)\n",
            "('analytical skills', 589)\n",
            "(('attention to detail', 'teamwork'), 576)\n",
            "(('communication', 'sales'), 570)\n",
            "(('teamwork', 'problem solving'), 564)\n",
            "(('customer service', 'problem solving'), 561)\n",
            "(('time management', 'customer service'), 557)\n",
            "('adaptability', 537)\n",
            "('documentation', 527)\n",
            "(('communication skills', 'customer service'), 515)\n",
            "('critical thinking', 512)\n",
            "(('leadership', 'problem solving'), 504)\n",
            "(('communication', 'collaboration'), 495)\n",
            "(('leadership', 'customer service', 'communication'), 494)\n",
            "(('communication', 'project management'), 492)\n",
            "('organization', 481)\n",
            "(('customer service', 'problemsolving'), 472)\n",
            "(('leadership', 'communication', 'teamwork'), 469)\n",
            "('budgeting', 466)\n",
            "(('inventory management', 'customer service'), 466)\n",
            "(('attention to detail', 'customer service'), 464)\n",
            "(('communication', 'problemsolving', 'teamwork'), 454)\n",
            "(('communication skills', 'teamwork'), 448)\n",
            "('safety', 445)\n",
            "(('time management', 'problem solving'), 443)\n",
            "('troubleshooting', 438)\n",
            "(('communication', 'teamwork', 'problem solving'), 433)\n",
            "(('time management', 'communication', 'teamwork'), 427)\n",
            "(('customer service', 'communication', 'sales'), 425)\n",
            "(('time management', 'attention to detail'), 424)\n",
            "('problemsolving skills', 422)\n",
            "('excel', 414)\n",
            "(('nursing', 'patient care'), 414)\n",
            "(('customer service', 'communication', 'problem solving'), 414)\n",
            "(('leadership', 'communication', 'problem solving'), 411)\n",
            "('written communication', 410)\n",
            "(('time management', 'leadership'), 409)\n",
            "('supervision', 405)\n",
            "('merchandising', 399)\n",
            "(('communication', 'training'), 397)\n",
            "('conflict resolution', 394)\n",
            "(('communication', 'data analysis'), 394)\n",
            "('life insurance', 388)\n",
            "('coaching', 387)\n",
            "(('leadership', 'problemsolving'), 384)\n",
            "(('customer service', 'high school diploma'), 384)\n",
            "('accounting', 382)\n",
            "(('attention to detail', 'communication', 'teamwork'), 382)\n",
            "('team leadership', 380)\n",
            "('decision making', 380)\n",
            "(('time management', 'customer service', 'communication'), 379)\n",
            "('computer skills', 373)\n",
            "(('communication', 'patient care'), 373)\n",
            "('travel', 372)\n",
            "('research', 369)\n",
            "(('communication skills', 'interpersonal skills'), 365)\n",
            "('quality assurance', 363)\n",
            "(('time management', 'problemsolving'), 362)\n",
            "(('customer service', 'communication', 'problemsolving'), 359)\n",
            "('team management', 355)\n",
            "('drivers license', 353)\n",
            "('healthcare', 353)\n",
            "('quality control', 352)\n",
            "(('attention to detail', 'problem solving'), 350)\n",
            "('dental insurance', 348)\n",
            "('verbal communication', 348)\n",
            "('401k', 348)\n",
            "('registered nurse', 347)\n",
            "('paid time off', 343)\n",
            "(('communication skills', 'attention to detail'), 343)\n",
            "('risk management', 339)\n",
            "(('customer service', 'merchandising'), 338)\n",
            "(('customer service', 'training'), 336)\n",
            "(('interpersonal skills', 'communication'), 335)\n",
            "('negotiation', 334)\n",
            "('reporting', 331)\n",
            "(('attention to detail', 'problemsolving'), 330)\n",
            "(('communication', 'adaptability'), 326)\n",
            "('lifting', 323)\n",
            "('presentation skills', 322)\n",
            "('marketing', 318)\n",
            "(('inventory management', 'communication'), 317)\n",
            "(('time management', 'leadership', 'communication'), 317)\n",
            "('supervisory experience', 314)\n",
            "(('communication', 'critical thinking'), 314)\n",
            "(('leadership', 'communication', 'problemsolving'), 312)\n",
            "('planning', 311)\n",
            "(('sales', 'teamwork'), 311)\n",
            "(('leadership', 'training'), 311)\n",
            "('vision insurance', 310)\n",
            "(('organization', 'communication'), 310)\n",
            "(('time management', 'communication', 'problem solving'), 309)\n",
            "('confidentiality', 306)\n",
            "(('communication', 'microsoft office suite'), 306)\n",
            "(('communication', 'scheduling'), 305)\n",
            "(('communication skills', 'problemsolving skills'), 304)\n",
            "(('vision insurance', 'dental insurance'), 302)\n",
            "(('attention to detail', 'customer service', 'communication'), 302)\n",
            "('equal opportunity employer', 299)\n",
            "('cash handling', 298)\n",
            "(('communication', 'multitasking'), 295)\n",
            "('bls', 294)\n",
            "('health insurance', 294)\n",
            "('patient education', 294)\n",
            "('mentoring', 291)\n",
            "('management', 288)\n",
            "(('written communication', 'verbal communication'), 285)\n",
            "(('communication', 'flexibility'), 285)\n",
            "('food safety', 283)\n",
            "(('communication', 'nursing'), 283)\n",
            "(('communication skills', 'time management'), 281)\n",
            "(('customer service', 'problemsolving', 'teamwork'), 281)\n",
            "(('time management', 'customer service', 'teamwork'), 280)\n",
            "('retail experience', 277)\n",
            "('engineering', 276)\n",
            "(('adaptability', 'teamwork'), 276)\n",
            "('compliance', 275)\n",
            "('professionalism', 275)\n",
            "(('leadership', 'project management'), 275)\n",
            "(('time management', 'communication', 'problemsolving'), 275)\n",
            "(('communication skills', 'organizational skills'), 274)\n",
            "(('leadership', 'customer service', 'teamwork'), 273)\n",
            "(('communication', 'safety'), 272)\n",
            "(('teamwork', 'patient care'), 271)\n",
            "(('attention to detail', 'customer service', 'teamwork'), 271)\n",
            "('microsoft excel', 267)\n",
            "('python', 266)\n",
            "(('customer service', 'cash handling'), 266)\n",
            "(('time management', 'attention to detail', 'communication'), 266)\n",
            "('valid drivers license', 265)\n",
            "(('flexibility', 'teamwork'), 265)\n",
            "(('documentation', 'communication'), 264)\n",
            "(('communication', 'high school diploma'), 263)\n",
            "(('problem solving', 'decision making'), 263)\n",
            "(('project management', 'problem solving'), 263)\n"
          ]
        }
      ],
      "source": [
        "# Run the algorithm and show the results\n",
        "\n",
        "resultsf = apriori(rdd, 0.02)\n",
        "\n",
        "resultsf = [(integer2skill[t[0]],t[1]) if type(t[0])==int else (tuple([integer2skill[element] for element in t[0]]),t[1]) for t in resultsf]\n",
        "results_sortedf = sorted(resultsf, key=lambda x: x[1], reverse=True)\n",
        "print()\n",
        "print(\"Frequent Itemsets sorted by occurences:\")\n",
        "for i in results_sortedf:\n",
        "    print(i)"
      ]
    },
    {
      "cell_type": "code",
      "execution_count": 39,
      "metadata": {
        "colab": {
          "base_uri": "https://localhost:8080/",
          "height": 507
        },
        "id": "3DsxcelmtzTd",
        "outputId": "3eb04401-47fa-4c23-9ab8-7bc8ffaf8d94"
      },
      "outputs": [
        {
          "data": {
            "image/png": "[encoded data removed]",
            "text/plain": [
              "<Figure size 1000x500 with 1 Axes>"
            ]
          },
          "metadata": {},
          "output_type": "display_data"
        }
      ],
      "source": [
        "# Plot the results\n",
        "\n",
        "# Extract the singletons from results\n",
        "single_skills = [item[0] for item in results_sortedf[:5]]\n",
        "single_counts = [item[1] for item in results_sortedf[:5]]\n",
        "\n",
        "plt.figure(figsize=(10, 5))\n",
        "bars = plt.bar(single_skills, single_counts, color='skyblue')\n",
        "plt.title('Top 5 most frequent Skills')\n",
        "plt.ylabel('Occurences')\n",
        "plt.xticks(rotation=45)\n",
        "plt.ylim(0, 4000)\n",
        "for bar, count in zip(bars, single_counts):\n",
        "    plt.text(bar.get_x() + bar.get_width() / 2, bar.get_height() + 20, str(count), ha='center', va='bottom')\n",
        "plt.tight_layout()\n",
        "plt.show()"
      ]
    },
    {
      "cell_type": "code",
      "execution_count": 40,
      "metadata": {
        "colab": {
          "base_uri": "https://localhost:8080/",
          "height": 506
        },
        "id": "heXImJ4kt7mM",
        "outputId": "89a0e0c1-701c-4b06-fd32-b995d27a3186"
      },
      "outputs": [
        {
          "data": {
            "image/png": "[encoded data removed]",
            "text/plain": [
              "<Figure size 1000x500 with 1 Axes>"
            ]
          },
          "metadata": {},
          "output_type": "display_data"
        }
      ],
      "source": [
        "# Extract the pairs from results\n",
        "double_skills = [item[0] for item in results_sortedf if isinstance(item[0], tuple)][:5]\n",
        "double_counts = [item[1] for item in results_sortedf if isinstance(item[0], tuple)][:5]\n",
        "\n",
        "plt.figure(figsize=(10, 5))\n",
        "bars = plt.bar([', '.join(item) for item in double_skills], double_counts, color='lightgreen')\n",
        "plt.title('Top 5 most frequent Pairs of Skills')\n",
        "plt.ylabel('Occurences')\n",
        "plt.xticks(rotation=45)\n",
        "plt.ylim(0, 1800)\n",
        "for bar, count in zip(bars, double_counts):\n",
        "    plt.text(bar.get_x() + bar.get_width() / 2, bar.get_height() + 20, str(count), ha='center', va='bottom')\n",
        "plt.tight_layout()\n",
        "plt.show()"
      ]
    },
    {
      "cell_type": "code",
      "execution_count": 41,
      "metadata": {
        "colab": {
          "base_uri": "https://localhost:8080/",
          "height": 506
        },
        "id": "Mcos0cp5uDY5",
        "outputId": "6f7085af-8d0a-469f-bfe0-2fc96b6ed839"
      },
      "outputs": [
        {
          "data": {
            "image/png": "[encoded data removed]",
            "text/plain": [
              "<Figure size 1000x500 with 1 Axes>"
            ]
          },
          "metadata": {},
          "output_type": "display_data"
        }
      ],
      "source": [
        "# Extract the triples\n",
        "triple_skills = [item[0] for item in results_sortedf if isinstance(item[0], tuple) and len(item[0]) == 3][:5]\n",
        "triple_counts = [item[1] for item in results_sortedf if isinstance(item[0], tuple) and len(item[0]) == 3][:5]\n",
        "\n",
        "plt.figure(figsize=(10, 5))\n",
        "bars = plt.bar([', '.join(item) for item in triple_skills], triple_counts, color='salmon')\n",
        "plt.title('Top 5 most frequent Triples of Skills')\n",
        "plt.ylabel('Occurences')\n",
        "plt.xticks(rotation=45)\n",
        "plt.ylim(0, 900)\n",
        "for bar, count in zip(bars, triple_counts):\n",
        "    plt.text(bar.get_x() + bar.get_width() / 2, bar.get_height() + 20, str(count), ha='center', va='bottom')\n",
        "\n",
        "plt.tight_layout()\n",
        "plt.show()"
      ]
    },
    {
      "cell_type": "code",
      "execution_count": 42,
      "metadata": {
        "id": "XClPiFxyXy1h"
      },
      "outputs": [],
      "source": [
        "spark.stop()"
      ]
    }
  ],
  "metadata": {
    "colab": {
      "authorship_tag": "ABX9TyOgRCZ9kEYrRj4MKhlABLtK",
      "include_colab_link": true,
      "provenance": []
    },
    "kernelspec": {
      "display_name": "Python 3",
      "name": "python3"
    },
    "language_info": {
      "name": "python"
    }
  },
  "nbformat": 4,
  "nbformat_minor": 0
}
